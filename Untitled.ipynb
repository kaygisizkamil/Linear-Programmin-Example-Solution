{
 "cells": [
  {
   "cell_type": "code",
   "execution_count": 2,
   "id": "c0cc58e2",
   "metadata": {},
   "outputs": [
    {
     "name": "stdout",
     "output_type": "stream",
     "text": [
      "Restricted license - for non-production use only - expires 2024-10-28\n",
      "Gurobi Optimizer version 10.0.0 build v10.0.0rc2 (win64)\n",
      "\n",
      "CPU model: Intel(R) Core(TM) i7-7700HQ CPU @ 2.80GHz, instruction set [SSE2|AVX|AVX2]\n",
      "Thread count: 4 physical cores, 8 logical processors, using up to 8 threads\n",
      "\n",
      "Optimize a model with 6 rows, 10 columns and 50 nonzeros\n",
      "Model fingerprint: 0xb9811f8e\n",
      "Variable types: 2 continuous, 8 integer (8 binary)\n",
      "Coefficient statistics:\n",
      "  Matrix range     [1e+00, 1e+01]\n",
      "  Objective range  [1e+00, 1e+00]\n",
      "  Bounds range     [1e+00, 1e+00]\n",
      "  RHS range        [4e+00, 3e+01]\n",
      "Found heuristic solution: objective 0.0000000\n",
      "\n",
      "Explored 0 nodes (0 simplex iterations) in 0.01 seconds (0.00 work units)\n",
      "Thread count was 1 (of 8 available processors)\n",
      "\n",
      "Solution count 1: 0 \n",
      "\n",
      "Optimal solution found (tolerance 1.00e-04)\n",
      "Best objective 0.000000000000e+00, best bound 0.000000000000e+00, gap 0.0000%\n",
      "Optimal solution:\n",
      "x1 = 1.0\n",
      "x2 = 1.0\n",
      "x3 = 1.0\n",
      "x4 = 1.0\n",
      "x5 = -0.0\n",
      "x6 = -0.0\n",
      "x7 = -0.0\n",
      "x8 = -0.0\n",
      "y1 = 0.0\n",
      "y2 = 0.0\n"
     ]
    }
   ],
   "source": [
    "import gurobipy as gp\n",
    "\n",
    "# Create a Gurobi model\n",
    "m = gp.Model()\n",
    "\n",
    "# Add variables to the model\n",
    "x1 = m.addVar(vtype=gp.GRB.BINARY)\n",
    "x2 = m.addVar(vtype=gp.GRB.BINARY)\n",
    "x3 = m.addVar(vtype=gp.GRB.BINARY)\n",
    "x4 = m.addVar(vtype=gp.GRB.BINARY)\n",
    "x5 = m.addVar(vtype=gp.GRB.BINARY)\n",
    "x6 = m.addVar(vtype=gp.GRB.BINARY)\n",
    "x7 = m.addVar(vtype=gp.GRB.BINARY)\n",
    "x8 = m.addVar(vtype=gp.GRB.BINARY)\n",
    "y1 = m.addVar(vtype=gp.GRB.CONTINUOUS, lb=0)\n",
    "y2 = m.addVar(vtype=gp.GRB.CONTINUOUS, lb=0)\n",
    "\n",
    "# Set up constraints\n",
    "m.addConstr(x1 + x2 + x3 + x4 + x5 + x6 + x7 + x8 == 4)\n",
    "m.addConstr(8*x1 + 3*x2 + 5*x3 + 5*x4 + 9*x5 + 6*x6 + 7*x7 + 12*x8 - y1 <= 30)\n",
    "m.addConstr(x1 + x2 + x3 + x4 + x5 + x6 + x7 + x8 <= 4)\n",
    "m.addConstr(-x1 - x2 - x3 - x4 - x5 - x6 - x7 - x8 + 4 - y2 <= 4)\n",
    "m.addConstr(-8*x1 - 3*x2 - 5*x3 - 5*x4 - 9*x5 - 6*x6 - 7*x7 - 12*x8 <= 30)\n",
    "m.addConstr(-x1 - x2 - x3 - x4 - x5 - x6 - x7 - x8 <= 4)\n",
    "\n",
    "# Set up objective function\n",
    "m.setObjective(y1 + y2, sense=gp.GRB.MINIMIZE)\n",
    "\n",
    "# Optimize the model\n",
    "m.optimize()\n",
    "\n",
    "# Print the optimal solution\n",
    "print(\"Optimal solution:\")\n",
    "print(\"x1 =\", x1.x)\n",
    "print(\"x2 =\", x2.x)\n",
    "print(\"x3 =\", x3.x)\n",
    "print(\"x4 =\", x4.x)\n",
    "print(\"x5 =\", x5.x)\n",
    "print(\"x6 =\", x6.x)\n",
    "print(\"x7 =\", x7.x)\n",
    "print(\"x8 =\", x8.x)\n",
    "print(\"y1 =\", y1.x)\n",
    "print(\"y2 =\", y2.x)\n"
   ]
  },
  {
   "cell_type": "code",
   "execution_count": null,
   "id": "a4b44484",
   "metadata": {},
   "outputs": [],
   "source": []
  }
 ],
 "metadata": {
  "kernelspec": {
   "display_name": "Python 3 (ipykernel)",
   "language": "python",
   "name": "python3"
  },
  "language_info": {
   "codemirror_mode": {
    "name": "ipython",
    "version": 3
   },
   "file_extension": ".py",
   "mimetype": "text/x-python",
   "name": "python",
   "nbconvert_exporter": "python",
   "pygments_lexer": "ipython3",
   "version": "3.9.13"
  }
 },
 "nbformat": 4,
 "nbformat_minor": 5
}
